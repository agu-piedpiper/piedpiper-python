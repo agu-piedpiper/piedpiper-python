{
  "nbformat": 4,
  "nbformat_minor": 0,
  "metadata": {
    "colab": {
      "provenance": [],
      "collapsed_sections": [
        "2qpZcFA1nHSd",
        "GMgPRuVQqMli",
        "Ycp5G8qyqVRv",
        "25LgEcL10oGD",
        "xAYEFsvI2qKe",
        "RIAOFUJQ20TH",
        "4KGgLi8cdtZy",
        "7VZ2S4jZN_pk",
        "glait0BydyUd"
      ],
      "toc_visible": true,
      "include_colab_link": true
    },
    "kernelspec": {
      "name": "python3",
      "display_name": "Python 3"
    },
    "language_info": {
      "name": "python"
    }
  },
  "cells": [
    {
      "cell_type": "markdown",
      "metadata": {
        "id": "view-in-github",
        "colab_type": "text"
      },
      "source": [
        "<a href=\"https://colab.research.google.com/github/ARAN1218/piedpiper-python/blob/main/PPP%E2%91%A0_HelloWorld.ipynb\" target=\"_parent\"><img src=\"https://colab.research.google.com/assets/colab-badge.svg\" alt=\"Open In Colab\"/></a>"
      ]
    },
    {
      "cell_type": "markdown",
      "metadata": {
        "id": "-qYALEdZmp1a"
      },
      "source": [
        "# Python 基本文法"
      ]
    },
    {
      "cell_type": "markdown",
      "source": [
        "## はじめに"
      ],
      "metadata": {
        "id": "5ONjAOkrMtkh"
      }
    },
    {
      "cell_type": "markdown",
      "source": [
        "### PiedPiper青山テック愛好会のオリジナルPython資料へようこそ！  \n",
        "いきなりですが、この資料は「教材の質」という観点では以下のような無料かつ高品質な資料に**全く敵いません**...\n",
        "\n",
        "京都大学 プログラミング演習 Python 2021：https://repository.kulib.kyoto-u.ac.jp/dspace/bitstream/2433/265459/1/Version2021_10_08_01.pdf\n",
        "\n",
        "\n",
        "### じゃあなんでこの資料を使うのか\n",
        "ポイントは以下の4つです。\n",
        "1. 必要最小限の範囲のみに絞っている。\n",
        "2. google colaboratory(colab)上で実際に動かしながら勉強できる。\n",
        "3. 文法に限らず、学んだことをアプリ化する演習で楽しく勉強できる。\n",
        "4. 活動の一環として行うため、ある程度強制力を持って勉強できる。\n",
        "\n",
        "順に説明していきます。特に3と4が強いポイントとなっています。\n",
        "\n",
        "#### ①必要最小限の範囲のみに絞っている。  \n",
        "\n",
        "上記資料は網羅性が高く、ハッキリ言って最初に勉強しないで良さそうな範囲を多く含んでいます！  \n",
        "さっさと必要最小限のものだけ勉強して、分からないところが出る→調べるのサイクルを回した方が（ものづくりという観点では）有利だと認識しています。\n",
        "なので、資料に基づく正確性と今までの経験による文法勘所により、ある種効率的な学習が望めると考えています。\n",
        "\n",
        "\n",
        "#### ②google colaboratory(colab)上で実際に動かしながら勉強できる。\n",
        "\n",
        "今みなさんが見ているこれはgoogle colaboratory(以下colab)といい、Pythonの実行環境の一つです。  \n",
        "そこにコードと一緒に説明を加えていくことで、学んだことをすぐに実行して記憶することができます。  \n",
        "これは書籍・動画でちまちま目線を変えつつ確認しながら写経するよりかは効率的な学習が望めると考えています。\n",
        "\n",
        "(まあ、東京大学は[colab版の資料](https://colab.research.google.com/github/utokyo-ipp/utokyo-ipp.github.io/blob/master/colab/index.ipynb)出してますけどね...)\n",
        "\n",
        "\n",
        "\n",
        "\n",
        "#### ③文法に限らず、学んだことをアプリ化する演習で楽しく勉強できる。\n",
        "\n",
        "これがこの資料**最大の強み**です。  \n",
        "PiedPiperのPython資料は全n章に分けて書かれていますが、その全てでその回で学んだ知識を使うオリジナル演習問題を作ってます！  \n",
        "目的がないかつ文法の勉強だけではプログラミングが面白くないと勘違いしてしまいますが(1敗)、遊び要素を混ぜることで楽しく勉強できたらいいなと思ってます。\n",
        "\n",
        "~~(東京大学のcolab資料にも一応章末に練習問題がありますが、漸化式を解くとか塩基配列のリストを作るとか、マジで何にも面白くない上に実用性が皆無な例題しかないです。)~~\n",
        "\n",
        "#### ④活動の一環として行うため、ある程度強制力を持って勉強できる。\n",
        "\n",
        "これもサークルならではの強みですね。とにかくみなさん文法の勉強の段階で挫折すると思ってる(!)ので、活動だから仕方ないなというメンタルでも最後までやってくれるエンジンになってくれるなら嬉しいです。\n"
      ],
      "metadata": {
        "id": "3pq3u2ImMvhZ"
      }
    },
    {
      "cell_type": "markdown",
      "source": [
        "ただ、本音を言うと**やる気のある人は**[こっち](https://colab.research.google.com/github/utokyo-ipp/utokyo-ipp.github.io/blob/master/colab/index.ipynb)をやった方がいいです。PiedPiperの資料ではプログラミングにおける詳細な仕様等の説明を省略している箇所があるので、網羅しているとは言い難いです。\n",
        "\n",
        "その場合でも、アプリ制作の部分だけこの資料を見てくれたら面白い可能性がありますので、やはりこの資料には存在価値が(ある程度)あると思います。  \n",
        "とにかく、これを見ている皆さんが挫折することなく一通りプログラミングに目を通してくれることを祈ってます〜👋"
      ],
      "metadata": {
        "id": "bYH1T7yrV8cI"
      }
    },
    {
      "cell_type": "markdown",
      "metadata": {
        "id": "2qpZcFA1nHSd"
      },
      "source": [
        "## Hello Python"
      ]
    },
    {
      "cell_type": "code",
      "metadata": {
        "id": "2m2YF9IGmtet"
      },
      "source": [
        "# プログラミングの世界にようこそ！\n",
        "# 左にある再生ボタンでPythonのコードを実行できます\n",
        "print(\"Hello World\") # 「Hello World」と出力"
      ],
      "execution_count": null,
      "outputs": []
    },
    {
      "cell_type": "code",
      "source": [
        "# 「変数」を使って中継してもok!\n",
        "# 「変数 = 値」の形で、変数の中に値を保持するイメージ\n",
        "hello_world = \"Hello World\"\n",
        "print(hello_world)"
      ],
      "metadata": {
        "id": "0k906_grzmkT"
      },
      "execution_count": null,
      "outputs": []
    },
    {
      "cell_type": "markdown",
      "metadata": {
        "id": "GMgPRuVQqMli"
      },
      "source": [
        "## データ型"
      ]
    },
    {
      "cell_type": "code",
      "metadata": {
        "id": "cfLRI7WnnTcz"
      },
      "source": [
        "# 整数型 = int型\n",
        "a = 3\n",
        "print(\"整数型 = int型: \", a)\n",
        "print()\n",
        "\n",
        "# 浮動小数点型 = float型\n",
        "b = 3.14\n",
        "print(\"浮動小数点型 = float型: \", b)\n",
        "print()\n",
        "\n",
        "# クォーテーションはシングル・ダブルのどっちでもヨシ！\n",
        "# 文字列型 = str型\n",
        "c = \"Python\" # c = 'Python'でも可\n",
        "print(\"文字列型 = str型: \", c)\n",
        "print()\n",
        "\n",
        "# 先頭は大文字で！\n",
        "# 真偽値 = bool型...TrueかFalseのどちらかしか取らない\n",
        "flag = True\n",
        "print(\"真偽値 = bool型: \", flag)"
      ],
      "execution_count": null,
      "outputs": []
    },
    {
      "cell_type": "code",
      "source": [
        "a=\" アイウエ　オ\"\n",
        "print(a)"
      ],
      "metadata": {
        "id": "dKQL-rgD6Ec1"
      },
      "execution_count": null,
      "outputs": []
    },
    {
      "cell_type": "code",
      "metadata": {
        "id": "OUj9mVrrQLZ3"
      },
      "source": [
        "# データ型の変換\n",
        "# int型\n",
        "print(\"int キャスト\")\n",
        "print(\"int(3.14): \", int(3.14))\n",
        "print('int(\"4\"): ', int(\"4\"))\n",
        "print()\n",
        "\n",
        "# float型\n",
        "print(\"float キャスト\")\n",
        "print('float(7): ', float(7))\n",
        "print('float(\"3.14\"): ', float(\"3.14\"))\n",
        "print()\n",
        "\n",
        "# str型\n",
        "print(\"str キャスト\")\n",
        "print('str(9999): ', str(9999))\n",
        "print('str(3.14): ', str(3.14))\n",
        "print()\n",
        "\n",
        "#bool型\n",
        "print(\"bool キャスト\")\n",
        "print('int(True): ', int(True))\n",
        "print('int(False): ', int(False))"
      ],
      "execution_count": null,
      "outputs": []
    },
    {
      "cell_type": "code",
      "source": [
        "float(False)"
      ],
      "metadata": {
        "id": "GKzVAJmV7K9k"
      },
      "execution_count": null,
      "outputs": []
    },
    {
      "cell_type": "markdown",
      "source": [
        "### シーケンス"
      ],
      "metadata": {
        "id": "K6N7pNAhYcx8"
      }
    },
    {
      "cell_type": "code",
      "source": [
        "\"\n",
        "テスト\n",
        "\""
      ],
      "metadata": {
        "id": "KAWWUeQq8RI3"
      },
      "execution_count": null,
      "outputs": []
    },
    {
      "cell_type": "code",
      "source": [
        "# str型のもう一つの書き方\n",
        "# トリプルクォートで改行を挟める！\n",
        "# 謎の特殊文字「\\n」が出現→改行を意味する\n",
        "'''Python\n",
        "大好き'''"
      ],
      "metadata": {
        "id": "GXRbGm7GXs2J"
      },
      "execution_count": null,
      "outputs": []
    },
    {
      "cell_type": "code",
      "source": [
        "# 逆に\\nを文章中に入れてみる\n",
        "# →改行を表すので、改行を出力している！\n",
        "print(\"C++\\n大嫌い\")"
      ],
      "metadata": {
        "id": "T89PfU2wYRlW"
      },
      "execution_count": null,
      "outputs": []
    },
    {
      "cell_type": "code",
      "source": [
        "# エスケープシーケンス\n",
        "# バックスペース(1文字消去)\n",
        "print(\"バック\\bスペース\")\n",
        "\n",
        "# 改行\n",
        "print(\"改\\n行\")\n",
        "\n",
        "# タブ\n",
        "print(\"タ\\tブ\")"
      ],
      "metadata": {
        "id": "N9608zfYYRnL"
      },
      "execution_count": null,
      "outputs": []
    },
    {
      "cell_type": "markdown",
      "metadata": {
        "id": "Ycp5G8qyqVRv"
      },
      "source": [
        "## 計算"
      ]
    },
    {
      "cell_type": "code",
      "metadata": {
        "id": "gU_xrRRNqDMs"
      },
      "source": [
        "# 足し算\n",
        "print(\"1 + 3: \", 1 + 3)\n",
        "print()\n",
        "\n",
        "# 引き算\n",
        "print(\"2 - 1: \", 2 - 1)\n",
        "print()\n",
        "\n",
        "# 掛け算\n",
        "print(\"3 * 2: \", 3 * 2)\n",
        "print()\n",
        "\n",
        "# べき乗\n",
        "print(\"2 ** 2: \", 2 ** 2)\n",
        "print()\n",
        "\n",
        "# 割り算\n",
        "print(\"4 / 2: \", 4 / 2)\n",
        "print()\n",
        "\n",
        "# 切り捨て除算\n",
        "print(\"5 // 2: \", 5 // 2)\n",
        "print()\n",
        "\n",
        "# 剰余(余り)\n",
        "print(\"5 % 2: \", 5 % 2)"
      ],
      "execution_count": null,
      "outputs": []
    },
    {
      "cell_type": "code",
      "source": [
        "# ライブラリを使うことでより高度な計算が可能に！\n",
        "import math # mathライブラリをインポート(持ってくる)すると言う処理です\n",
        "\n",
        "# 整数4の平方根や、0の正弦を求められる\n",
        "print(\"math.sqrt(4): \", math.sqrt(4))\n",
        "print(\"math.sin(0): \", math.sin(0))"
      ],
      "metadata": {
        "id": "zQfR_Rr2Y9ew"
      },
      "execution_count": null,
      "outputs": []
    },
    {
      "cell_type": "code",
      "metadata": {
        "id": "0rmQU56An5jj"
      },
      "source": [
        "# 数式だけだと...\n",
        "1 + 9"
      ],
      "execution_count": null,
      "outputs": []
    },
    {
      "cell_type": "code",
      "source": [
        "# 「_」という変数に計算結果が保存される！\n",
        "_"
      ],
      "metadata": {
        "id": "FQPa3b3eYrIb"
      },
      "execution_count": null,
      "outputs": []
    },
    {
      "cell_type": "code",
      "metadata": {
        "id": "ncn3mWUfsxAg"
      },
      "source": [
        "# 自己代入(重要)\n",
        "def reset(): #変数a,bの初期化関数(今は無視していいです)\n",
        "  global a, b\n",
        "  a = 10\n",
        "  b = 3\n",
        "\n",
        "reset()\n",
        "# 加算して代入\n",
        "a = a + b # a += bでも可\n",
        "print(\"a = a + b:\",a)\n",
        "\n",
        "reset()\n",
        "# 減算して代入 # a -= bでも可\n",
        "a = a - b\n",
        "print(\"a = a - b:\",a)\n",
        "\n",
        "reset()\n",
        "# 乗算して代入 # a *= bでも可\n",
        "a = a * b\n",
        "print(\"a = a * b:\",a)\n",
        "\n",
        "reset()\n",
        "# 商算して代入 # a /= bでも可\n",
        "a = a / b\n",
        "print(\"a = a / b:\",a)\n",
        "\n",
        "reset()\n",
        "# 商の整数部分だけ代入 # a //= bでも可\n",
        "a = a // b\n",
        "print(\"a = a // b:\",a)\n",
        "\n",
        "reset()\n",
        "# 商の余りだけ代入 # a %= bでも可\n",
        "a = a % b\n",
        "print(\"a = a % b:\",a)\n",
        "\n",
        "reset()\n",
        "# 累乗算して代入 # a **= bでも可\n",
        "a = a ** b\n",
        "print(\"a = a ** b:\",a)\n"
      ],
      "execution_count": null,
      "outputs": []
    },
    {
      "cell_type": "code",
      "source": [
        "# コメント\n",
        "print(1)"
      ],
      "metadata": {
        "id": "B0ANwpBqASZs"
      },
      "execution_count": null,
      "outputs": []
    },
    {
      "cell_type": "markdown",
      "metadata": {
        "id": "25LgEcL10oGD"
      },
      "source": [
        "## 代入のあれこれ"
      ]
    },
    {
      "cell_type": "code",
      "metadata": {
        "id": "EtOn6r5a3PPe"
      },
      "source": [
        "# input関数\n",
        "# 値をキーボードから入力させる！\n",
        "# input関数の中にstr型の値を入れると、その文字を出力した上で入力させられる（例えば、以下のように入力誘導に使える）。\n",
        "moji = input(\"何か文字を入力してください>\")\n",
        "print(moji)"
      ],
      "execution_count": null,
      "outputs": []
    },
    {
      "cell_type": "code",
      "source": [
        "# 数字(?)\n",
        "moji = input(\"半角数字を入力してください>\")\n",
        "print(moji + 1)"
      ],
      "metadata": {
        "id": "SX1_ajvlbrph"
      },
      "execution_count": null,
      "outputs": []
    },
    {
      "cell_type": "markdown",
      "source": [
        "Oops! エラーが発生しましたね！  \n",
        "エラー文を読んでみましょ〜\n",
        "\n",
        "```\n",
        "TypeError: can only concatenate str (not \"int\") to str\n",
        "```\n",
        "意味は「str型とint型の組み合わせでは足し算できません」ですね。  \n",
        "つまり、inputで入力した文字はstr型だと分かります！"
      ],
      "metadata": {
        "id": "p3nMbil4LE60"
      }
    },
    {
      "cell_type": "code",
      "source": [
        "# 数値！\n",
        "# int関数を使う事でint型にできる！(データ型を変換することをキャストという)\n",
        "a = int(input())\n",
        "b = 3\n",
        "print(a + b)"
      ],
      "metadata": {
        "id": "A699CxtDbrvK"
      },
      "execution_count": null,
      "outputs": []
    },
    {
      "cell_type": "code",
      "source": [
        "a = float(input())\n",
        "b = 3\n",
        "print(a - b)"
      ],
      "metadata": {
        "id": "nMCzxw3fBpNS"
      },
      "execution_count": null,
      "outputs": []
    },
    {
      "cell_type": "code",
      "metadata": {
        "id": "ASRqtLhR0mw3"
      },
      "source": [
        "# 多重代入\n",
        "x = 1\n",
        "y = 2\n",
        "z = 3\n",
        "\n",
        "# x=z, y=zを一行で実現\n",
        "x = y = z\n",
        "print(x, y, z)"
      ],
      "execution_count": null,
      "outputs": []
    },
    {
      "cell_type": "code",
      "source": [
        "# 便利な代入\n",
        "# カンマで区切って、一行で複数の変数への代入ができる！\n",
        "x, y = 10, 11\n",
        "print(x, y)"
      ],
      "metadata": {
        "id": "EB0rl8zCvJi9"
      },
      "execution_count": null,
      "outputs": []
    },
    {
      "cell_type": "markdown",
      "metadata": {
        "id": "xAYEFsvI2qKe"
      },
      "source": [
        "## いきなりアプリ制作"
      ]
    },
    {
      "cell_type": "markdown",
      "metadata": {
        "id": "RIAOFUJQ20TH"
      },
      "source": [
        "### 標準体重(kg) = BMI * (身長(m))^2\n",
        "\n",
        "hint:\n",
        "\n",
        "- 身長を「入力」する必要がある\n",
        "- 計算した標準体重を「出力」する必要がある"
      ]
    },
    {
      "cell_type": "code",
      "metadata": {
        "id": "3Z24jzMX2f8r"
      },
      "source": [
        "# 定数(BMI)は大文字\n",
        "# 変数の名前を工夫せよ\n",
        "BMI = 22\n"
      ],
      "execution_count": null,
      "outputs": []
    },
    {
      "cell_type": "markdown",
      "source": [
        "#### 作成例(※とりあえず書いてみるまで見ない方がいいよ)"
      ],
      "metadata": {
        "id": "4KGgLi8cdtZy"
      }
    },
    {
      "cell_type": "code",
      "source": [
        "# 定数(BMI)は大文字\n",
        "# 変数の名前を工夫せよ\n",
        "BMI = 22\n",
        "height = int(input(\"身長(cm)を入力してください>\"))\n",
        "weight = BMI * (height / 100)**2\n",
        "print(\"あなたの標準体重は\" + str(weight) + \"です\")"
      ],
      "metadata": {
        "id": "AmITP1tvdwC1"
      },
      "execution_count": null,
      "outputs": []
    },
    {
      "cell_type": "markdown",
      "metadata": {
        "id": "7VZ2S4jZN_pk"
      },
      "source": [
        "### 寿命(分) = 21.5億 ➗ 心拍数(毎分)"
      ]
    },
    {
      "cell_type": "code",
      "metadata": {
        "id": "G7BZdskHOk5z"
      },
      "source": [
        "RHYTHM = 2150000000\n"
      ],
      "execution_count": null,
      "outputs": []
    },
    {
      "cell_type": "markdown",
      "source": [
        "#### 作成例"
      ],
      "metadata": {
        "id": "glait0BydyUd"
      }
    },
    {
      "cell_type": "code",
      "source": [
        "rhythm = 2150000000\n",
        "heart = int(input(\"あなたの一分間の心拍数を入力してください>\"))\n",
        "life_min = rhythm / heart\n",
        "life_hour = life_min / 60\n",
        "life_day = life_hour / 24\n",
        "life = life_day / 365\n",
        "print(\"あなたの寿命は\" + str(life) + \"年です！\")\n",
        "print(f\"あなたの寿命は{life:.2f}年です！\")\n",
        "print(\"あなたの寿命は{:.2f}年です！\".format(life))"
      ],
      "metadata": {
        "id": "d0u5ePL5d1LX"
      },
      "execution_count": null,
      "outputs": []
    },
    {
      "cell_type": "markdown",
      "metadata": {
        "id": "K0B8qmvq0ftd"
      },
      "source": [
        "## 最終回にやりたいことチラ見せ"
      ]
    },
    {
      "cell_type": "code",
      "metadata": {
        "id": "XEzXff-TxEj9"
      },
      "source": [
        "from sklearn.datasets import fetch_california_housing\n",
        "housing = fetch_california_housing()\n",
        "#説明変数\n",
        "x_array = housing.data\n",
        "#目的変数\n",
        "y_array = housing.target"
      ],
      "execution_count": null,
      "outputs": []
    },
    {
      "cell_type": "code",
      "metadata": {
        "id": "71CAc4b4xJig"
      },
      "source": [
        "import numpy as np\n",
        "import pandas as pd\n",
        "\n",
        "df = pd.DataFrame(x_array, columns=housing.feature_names).assign(MEDV=np.array(y_array))\n",
        "\n",
        "# データフレームを表示（printみたいなやつ）\n",
        "display(df)\n",
        "\n",
        "# データの記述統計を表示\n",
        "df.describe()"
      ],
      "execution_count": null,
      "outputs": []
    },
    {
      "cell_type": "code",
      "source": [
        "# 箱ひげ図をプロット\n",
        "df.plot.box(y='MEDV')"
      ],
      "metadata": {
        "id": "R_S8Am33abxy"
      },
      "execution_count": null,
      "outputs": []
    },
    {
      "cell_type": "code",
      "source": [
        "# 散布図をプロット\n",
        "df.plot.scatter(x='MedInc', y='MEDV')"
      ],
      "metadata": {
        "id": "g6RyjgCUY1H3"
      },
      "execution_count": null,
      "outputs": []
    },
    {
      "cell_type": "markdown",
      "source": [
        "その他にも色々あります。  \n",
        "以下のサイトを参考にして色々プロットしてみましょ〜👋  \n",
        "\n",
        "https://note.nkmk.me/python-pandas-plot/"
      ],
      "metadata": {
        "id": "r-eB0RFMeX0Q"
      }
    },
    {
      "cell_type": "markdown",
      "source": [
        "# LICENCE\n",
        "\n",
        "このcolabは[githubのREADME](https://github.com/agu-piedpiper/piedpiper-python)にて記載の通りのライセンスに従います。"
      ],
      "metadata": {
        "id": "AVy1kTrtYdTD"
      }
    }
  ]
}