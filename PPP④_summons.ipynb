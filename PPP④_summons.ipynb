{
  "nbformat": 4,
  "nbformat_minor": 0,
  "metadata": {
    "colab": {
      "provenance": [],
      "collapsed_sections": [
        "TD0fF9BuOKSS",
        "7DlOJ7Q7OeGx",
        "J8JexGU07A9D",
        "oEgLF2KJBoFC"
      ],
      "include_colab_link": true
    },
    "kernelspec": {
      "name": "python3",
      "display_name": "Python 3"
    },
    "language_info": {
      "name": "python"
    }
  },
  "cells": [
    {
      "cell_type": "markdown",
      "metadata": {
        "id": "view-in-github",
        "colab_type": "text"
      },
      "source": [
        "<a href=\"https://colab.research.google.com/github/ARAN1218/piedpiper-python/blob/main/PPP%E2%91%A3_summons.ipynb\" target=\"_parent\"><img src=\"https://colab.research.google.com/assets/colab-badge.svg\" alt=\"Open In Colab\"/></a>"
      ]
    },
    {
      "cell_type": "markdown",
      "metadata": {
        "id": "0iDW7EVmN_ks"
      },
      "source": [
        "# ゆうしゃは　メラ　をとなえた！"
      ]
    },
    {
      "cell_type": "markdown",
      "metadata": {
        "id": "TD0fF9BuOKSS"
      },
      "source": [
        "## メラを覚えよう"
      ]
    },
    {
      "cell_type": "code",
      "source": [
        "# 関数とは...print()のように()をつけて使うやつ\n",
        "print(\"これがprint関数\")"
      ],
      "metadata": {
        "id": "zT1kfznGib6S"
      },
      "execution_count": null,
      "outputs": []
    },
    {
      "cell_type": "code",
      "metadata": {
        "id": "rWSekz2fOJxU"
      },
      "source": [
        "# 自分だけのオリジナル関数が作れる！\n",
        "# def [関数名](引数):\n",
        "def magic():\n",
        "  print(\"メラ\")\n",
        "\n",
        "# いつもの関数のように呼び出す！\n",
        "magic()"
      ],
      "execution_count": null,
      "outputs": []
    },
    {
      "cell_type": "code",
      "metadata": {
        "id": "0J5W_pP5PL8d"
      },
      "source": [
        "# 関数定義時に引数を指定してあげると、その引数にきたデータを使って処理ができる！\n",
        "# 更に関数の最後にreturnを置くと、関数が返す値を指定できる！\n",
        "def mean(data):\n",
        "  data_sum = sum(data)\n",
        "  return (data_sum / len(data))\n",
        "\n",
        "data = [i for i in range(100)]\n",
        "data_mean = mean(data)\n",
        "print(data_mean)"
      ],
      "execution_count": null,
      "outputs": []
    },
    {
      "cell_type": "code",
      "metadata": {
        "id": "vj6SnN_0Q5Gd"
      },
      "source": [
        "# 関数化するメリット...複数回行う処理をまとめておける！\n",
        "def question():\n",
        "  gender = input(\"あなたの性別は何ですか?>\")\n",
        "  age = int(input(\"あなたの年齢は何ですか?>\"))\n",
        "  return (gender, age)\n",
        "\n",
        "a = question()\n",
        "b = question()\n",
        "c = question()\n",
        "\n",
        "print([a, b, c])"
      ],
      "execution_count": null,
      "outputs": []
    },
    {
      "cell_type": "code",
      "metadata": {
        "id": "KrXg4fsvR7Ue"
      },
      "source": [
        "# 引数は初期値を設定できる!\n",
        "def self(name, age=999):\n",
        "  print(\"初めまして！ {}歳の{}と申します！\".format(age, name)) # formatでageとnameを文字列に入れる\n",
        "  print(f\"初めまして！ {age}歳の{name}と申します！\") # fstringsというテクニックでより簡潔にかける\n",
        "\n",
        "self(\"nara\") #引数ageに値が入らなかったため、初期値である999が採用される"
      ],
      "execution_count": null,
      "outputs": []
    },
    {
      "cell_type": "code",
      "source": [
        "# 引数のデータ型のヒントを書いておく事ができる\n",
        "# 先程のadd関数は数値の足し算なのか文字列の連結なのか分かりにくい...→予め引数のデータ型を書いておけば、開発時に分かりやすくなる！\n",
        "# ただし、これは「ヒント」に過ぎないため、実際は違うデータ型を渡してもエラーは出てくれない\n",
        "def add(a,b) -> float:\n",
        "\n",
        "  # 関数の中で関数を定義できる\n",
        "  def add2(c,d): -> int:\n",
        "    return c + d\n",
        "\n",
        "  return add2(a,b)\n",
        "\n",
        "print(\"add(1,2)：\", add(1,2))\n",
        "print(\"add('a','b')：\", add('a','b')) # 文字列を渡しても動く"
      ],
      "metadata": {
        "id": "sBCnyy1ii_zs"
      },
      "execution_count": null,
      "outputs": []
    },
    {
      "cell_type": "code",
      "metadata": {
        "id": "WQI6E1yL8JoA"
      },
      "source": [
        "# printにも初期値がある\n",
        "# sepで区切り文字を指定(初期値は\" \")\n",
        "print(1,2,3, sep=\"/\")\n",
        "\n",
        "# endで出力終わり時の出力を指定(初期値は\"\\n\")\n",
        "print(4,5,6, end=\" \")\n",
        "print(7,8,9) # 前のprintで改行されていない事が分かる"
      ],
      "execution_count": null,
      "outputs": []
    },
    {
      "cell_type": "markdown",
      "metadata": {
        "id": "7DlOJ7Q7OeGx"
      },
      "source": [
        "## オブジェクト指向"
      ]
    },
    {
      "cell_type": "markdown",
      "metadata": {
        "id": "FKACGFsp-4YO"
      },
      "source": [
        "関数だけによるプログラムでは、グローバル変数の内容が意図しない場所で書き換えられたりして不具合を起こす事があります。\n",
        "そこで、共通して同じ変数を使用する関数をまとめて。クラスを作成していきます。"
      ]
    },
    {
      "cell_type": "code",
      "source": [
        "# クラス...オブジェクト指向の基本単位\n",
        "# 実はint型やstr型等は全てクラス！\n",
        "# リストやタプル等もクラスである\n",
        "a = list((1,2,3))\n",
        "a.append(4) # クラスにはそれに属するデータ(インスタンス)が使える便利な処理=メソッドが備わっている\n",
        "print(a)"
      ],
      "metadata": {
        "id": "KXKCvQ1eMGYE"
      },
      "execution_count": null,
      "outputs": []
    },
    {
      "cell_type": "code",
      "metadata": {
        "id": "YkzegpQSqF9n"
      },
      "source": [
        "# 自分でクラスを定義できる！\n",
        "# class [クラス名](スーパークラス):\n",
        "class Bird: #クラス名はclassで定義\n",
        "  def cry(self): #メソッド名はdefで定義\n",
        "    print(\"ピーピー\")\n",
        "\n",
        "# toriという変数をBirdというデータ型(クラス)にする。この時のtoriをインスタンスという。\n",
        "# クラスBIrdからインスタンスtoriを作成\n",
        "tori = Bird()\n",
        "tori.cry() # メソッドの使用方法はいつも通り"
      ],
      "execution_count": null,
      "outputs": []
    },
    {
      "cell_type": "markdown",
      "source": [
        "### 継承"
      ],
      "metadata": {
        "id": "5oM3PF0_Ylyg"
      }
    },
    {
      "cell_type": "code",
      "metadata": {
        "id": "mMef2Jy_AeZ3"
      },
      "source": [
        "# クラスBirdを継承して、サブクラスPigeonを定義する\n",
        "class Pigeon(Bird): # 定義済みのクラスを新しく定義するclassの引数にすることで、そのメソッドを継承できる。\n",
        "  def fly(self):\n",
        "    print(\"バサバサ\")\n",
        "\n",
        "hato = Pigeon()\n",
        "hato.fly()\n",
        "hato.cry()"
      ],
      "execution_count": null,
      "outputs": []
    },
    {
      "cell_type": "markdown",
      "source": [
        "### オーバーライド"
      ],
      "metadata": {
        "id": "ARMYFRdBYoB4"
      }
    },
    {
      "cell_type": "code",
      "metadata": {
        "id": "B48-qtz7CUxK"
      },
      "source": [
        "# オーバーライド\n",
        "# ハトの鳴き声は「ピーピー」ではなかろう(ただし雛はそう)→更新する\n",
        "# 異なるクラスで同じメソッド名を定義する事で、振る舞いを分ける事ができる\n",
        "class Pigeon(Bird):\n",
        "  def cry(self): # スーパークラスで定義されているcryメソッドを書き換える\n",
        "    print(\"ぽっぽっぽ\")\n",
        "\n",
        "  def fly(self):\n",
        "    print(\"バサバサ\")\n",
        "\n",
        "hato = Pigeon()\n",
        "hato.cry()"
      ],
      "execution_count": null,
      "outputs": []
    },
    {
      "cell_type": "code",
      "metadata": {
        "id": "SvIJd458cDPj"
      },
      "source": [
        "# メソッド__init__()を用いて、そのクラスのインスタンス変数が持っている初期値を設定できる\n",
        "# 普通に参照できるパブリック変数と、メソッドでしか値が取得・更新できないプライベート変数がある\n",
        "class Pigeon:\n",
        "  def __init__(self, name, secret_cry):\n",
        "    self.name = name\n",
        "    self.__secret_cry = secret_cry\n",
        "\n",
        "  def cry(self):\n",
        "    print(\"ぽっぽっぽ\")\n",
        "\n",
        "  def fly(self):\n",
        "    print(\"バサバサ\")\n",
        "\n",
        "hato = Pigeon(\"ぽぽきち\", \"ｵﾊｰﾄ🐦\")\n",
        "print(hato.name) # パブリック変数はいつものように参照できる\n",
        "print(hato.__secret_cry) # プライベート変数は普通に取得できない"
      ],
      "execution_count": null,
      "outputs": []
    },
    {
      "cell_type": "code",
      "metadata": {
        "id": "FsITfPUne2jr"
      },
      "source": [
        "# プライベート変数を取得・更新するには、メソッドで定義するしかない！\n",
        "# プライベート変数を利用するメリット...クラスの外からその値を変更できなくする\n",
        "class Pigeon:\n",
        "  def __init__(self, name, secret_cry):\n",
        "    self.name = name\n",
        "    self.__secret_cry = secret_cry\n",
        "\n",
        "  def cry(self):\n",
        "    print(\"ぽっぽっぽ\")\n",
        "\n",
        "  def secret_cry(self):\n",
        "    return self.__secret_cry\n",
        "\n",
        "  def secret_cry_set(self, newcry):\n",
        "    self.__secret_cry = newcry\n",
        "\n",
        "hato = Pigeon(\"ぽぽきち\", \"ｵﾊｰﾄ🐦\")\n",
        "print(hato.secret_cry()) # きちんと出力される\n",
        "\n",
        "hato.secret_cry_set(\"違います\") # プライベート変数の値を更新するメソッド\n",
        "print(hato.secret_cry()) # きちんと更新されている"
      ],
      "execution_count": null,
      "outputs": []
    },
    {
      "cell_type": "code",
      "metadata": {
        "id": "giZBQUBPdRpT"
      },
      "source": [
        "# インスタンス変数があればクラス変数もある\n",
        "# クラス変数とインスタンス変数は同名でも別物扱いされる\n",
        "class Pigeon:\n",
        "  count = 0 # 関数上で定義してない変数がクラス変数\n",
        "  def __init__(self, name, secret_cry):\n",
        "    self.name = name # インスタンス変数(パブリック)\n",
        "    self.__secret_cry = secret_cry # インスタンス変数(プライベート)\n",
        "    Pigeon.count += 1 # Pigeonクラスのインスタンスが新しく定義される度、クラス変数であるcountに1を足す\n",
        "\n",
        "popokichi = Pigeon(\"ぽぽきち\", \"ｵﾊｰﾄ🐦\")\n",
        "poppochan = Pigeon(\"ぽっぽちゃん\", \"ｵﾊｰﾄ🐦\")\n",
        "poppo = Pigeon(\"ぽっぽ\", \"ｵﾊｰﾄ🐦\")\n",
        "\n",
        "print(\"ハトの数：\", Pigeon.count)"
      ],
      "execution_count": null,
      "outputs": []
    },
    {
      "cell_type": "markdown",
      "source": [
        "## ゲーム制作"
      ],
      "metadata": {
        "id": "J8JexGU07A9D"
      }
    },
    {
      "cell_type": "markdown",
      "source": [
        "### ド○クエの戦闘システム\n",
        "クラスPlayerとクラスMonsterを使って、ド○クエのような戦闘ゲームを作りたい。  \n",
        "このゲームは以下の要件を満たす。\n",
        "\n",
        "1. ターン制の戦闘で、プレイヤーが先制攻撃する。  \n",
        "2. プレイヤーはターン毎に1~3の入力でコマンドを選択できる。\n",
        "  - 1：たたかう...相手に攻撃力±2分のダメージを与える(attackメソッド)\n",
        "  - 2：かいふく...自信の体力を全回復する(recoverメソッド)\n",
        "  - 3：にげる...戦いをリタイアしてゲームを終了する(escapeメソッド)\n",
        "3. モンスターはターン毎に以下のコマンドをランダムで使ってくる。\n",
        "  - たたかう...相手に攻撃力±2分のダメージを与える\n",
        "  - 様子をうかがう...何もしない\n",
        "4. 存在しないコマンドが入力された場合、再度入力をやり直させる。\n",
        "5. プレイヤーとモンスターのステータスは次の通りに設定する。\n",
        "  - プレイヤー...体力：10, 攻撃力：3\n",
        "  - モンスター...体力：20, 攻撃力：2\n",
        "6. 毎ターンプレイヤーとモンスターのHPを表示する。\n",
        "7. プレイヤーとモンスターはHPがゼロになった時点で戦闘不能になる。\n",
        "8. プレイヤーが戦闘不能になった場合、ゲームオーバーになる。\n",
        "9. モンスターが戦闘不能になった場合、ゲームクリアとなる。\n",
        "\n",
        "上記プログラムの内、既にMonsterクラスとゲームを動かすためのgame_play関数が完成している。要件を満たすようにPlayerクラスを作成せよ。ただし、PlayerクラスはMonsterクラスを継承して作成すること。"
      ],
      "metadata": {
        "id": "rFRtSsOf7Ewt"
      }
    },
    {
      "cell_type": "markdown",
      "source": [
        "(終わった人向け)追加アイデア\n",
        "- 攻撃力等のステータスを変えて遊ぶ\n",
        "- モンスターもかいふくコマンドを使えるようにする\n",
        "- 会心の一撃システムを作る。\n",
        "- まほうコマンドを作る(確率で一撃必殺とか)\n",
        "- 逃げた時、一定確率で回り込まれるようにする"
      ],
      "metadata": {
        "id": "m1ZXME_Iz2AD"
      }
    },
    {
      "cell_type": "code",
      "source": [
        "import random\n",
        "\n",
        "# Playerクラスを作成しよう！\n",
        "class Player(Monster):\n",
        "\n",
        "\n",
        "class Monster:\n",
        "    def __init__(self, name, hp, atk):\n",
        "        self.name = name\n",
        "        self.hp = hp\n",
        "        self.atk = atk\n",
        "\n",
        "    def attack(self, opponent):\n",
        "        damage = random.randint(self.atk-2, self.atk+2)\n",
        "        opponent.hp -= damage\n",
        "        print(f\"{self.name}のこうげき！ {opponent.name}は {damage} ダメージをうけた！\")\n",
        "\n",
        "    def idle(self):\n",
        "        print(f\"{self.name}はようすをうかがっている...\")\n",
        "\n",
        "    def command(self, opponent):\n",
        "      self.attack(opponent) if random.randint(0,1)==0 else self.idle()\n",
        "\n",
        "\n",
        "def game_play():\n",
        "    player = Player(\"ゆうしゃ\", 10, 3)\n",
        "    monster = Monster(\"スライム\", 20, 2)\n",
        "    print(f\"{monster.name}があらわれた！\")\n",
        "\n",
        "    while True:\n",
        "        print()\n",
        "        print(f\"{player.name} HP: {player.hp}\")\n",
        "        print(f\"{monster.name} HP: {monster.hp}\")\n",
        "        command = input(\"コマンドをにゅうりょくしてください（1:たたかう　2:かいふく　3:にげる）>\")\n",
        "\n",
        "        if command == \"1\":\n",
        "            player.attack(monster)\n",
        "            if monster.hp <= 0:\n",
        "                print(f\"{monster.name}をやっつけた！\")\n",
        "                print(\"Game Clear!\")\n",
        "                break\n",
        "            monster.command(player)\n",
        "            if player.hp <= 0:\n",
        "                print(f\"{player.name}はぜんめつした！\")\n",
        "                print(\"Game Over!\")\n",
        "                break\n",
        "\n",
        "        elif command == \"2\":\n",
        "            player.recover()\n",
        "            monster.attack(player)\n",
        "\n",
        "        elif command == \"3\":\n",
        "            player.escape()\n",
        "\n",
        "        else:\n",
        "            print(\"やりなおしてください\")\n",
        "            continue\n",
        "\n",
        "game_play()"
      ],
      "metadata": {
        "id": "4-Kb9HEABj8R"
      },
      "execution_count": null,
      "outputs": []
    },
    {
      "cell_type": "markdown",
      "source": [
        "### 作成例"
      ],
      "metadata": {
        "id": "oEgLF2KJBoFC"
      }
    },
    {
      "cell_type": "code",
      "source": [
        "import random\n",
        "\n",
        "# Monsterクラス\n",
        "class Monster:\n",
        "    def __init__(self, name, hp, atk):\n",
        "        self.name = name\n",
        "        self.hp = hp\n",
        "        self.atk = atk\n",
        "\n",
        "    def attack(self, opponent):\n",
        "        damage = random.randint(self.atk-2, self.atk+2)\n",
        "        opponent.hp -= damage\n",
        "        print(f\"{self.name}のこうげき！ {opponent.name}は {damage} ダメージをうけた！\")\n",
        "\n",
        "    def idle(self):\n",
        "        print(f\"{self.name}はようすをうかがっている...\")\n",
        "\n",
        "    def command(self, opponent):\n",
        "      self.attack(opponent) if random.randint(0,1)==0 else self.idle()\n",
        "\n",
        "# Playerクラス\n",
        "class Player(Monster):\n",
        "    def __init__(self, name, hp, atk):\n",
        "        super().__init__(name, hp, atk)\n",
        "        self.max_hp = hp\n",
        "\n",
        "    def recover(self):\n",
        "        print(f\"{self.name}はHPを {self.max_hp - self.hp} かいふくした！\")\n",
        "        self.hp = self.max_hp\n",
        "\n",
        "    def escape(self):\n",
        "        print(f\"{self.name}はにげだした！\")\n",
        "        exit()\n",
        "\n",
        "\n",
        "# game_play関数\n",
        "# この関数で全体のゲームを動かす\n",
        "def game_play():\n",
        "    player = Player(\"ゆうしゃ\", 10, 3)\n",
        "    monster = Monster(\"スライム\", 20, 2)\n",
        "    print(f\"{monster.name}があらわれた！\")\n",
        "\n",
        "    while True:\n",
        "        print()\n",
        "        print(f\"{player.name} HP: {player.hp}\")\n",
        "        print(f\"{monster.name} HP: {monster.hp}\")\n",
        "        command = input(\"コマンドをにゅうりょくしてください（1:たたかう　2:かいふく　3:にげる）>\")\n",
        "\n",
        "        if command == \"1\":\n",
        "            player.attack(monster)\n",
        "            if monster.hp <= 0:\n",
        "                print(f\"{monster.name}をやっつけた！\")\n",
        "                print(\"Game Clear!\")\n",
        "                break\n",
        "            monster.command(player)\n",
        "            if player.hp <= 0:\n",
        "                print(f\"{player.name}はぜんめつした！\")\n",
        "                print(\"Game Over!\")\n",
        "                break\n",
        "\n",
        "        elif command == \"2\":\n",
        "            player.recover()\n",
        "            monster.attack(player)\n",
        "\n",
        "        elif command == \"3\":\n",
        "            player.escape()\n",
        "\n",
        "        else:\n",
        "            print(\"やりなおしてください\")\n",
        "            continue\n",
        "\n",
        "game_play()"
      ],
      "metadata": {
        "id": "RV289cPOyUUg"
      },
      "execution_count": null,
      "outputs": []
    },
    {
      "cell_type": "markdown",
      "source": [
        "# LICENCE\n",
        "\n",
        "このcolabは[githubのREADME](https://github.com/agu-piedpiper/piedpiper-python)にて記載の通りのライセンスに従います。"
      ],
      "metadata": {
        "id": "KmPTf191a_VU"
      }
    }
  ]
}