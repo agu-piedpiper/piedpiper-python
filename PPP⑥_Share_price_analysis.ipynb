{
  "nbformat": 4,
  "nbformat_minor": 0,
  "metadata": {
    "colab": {
      "provenance": [],
      "toc_visible": true,
      "authorship_tag": "ABX9TyMhONQ2AuepW8KQKD2yY8ae",
      "include_colab_link": true
    },
    "kernelspec": {
      "name": "python3",
      "display_name": "Python 3"
    },
    "language_info": {
      "name": "python"
    }
  },
  "cells": [
    {
      "cell_type": "markdown",
      "metadata": {
        "id": "view-in-github",
        "colab_type": "text"
      },
      "source": [
        "<a href=\"https://colab.research.google.com/github/ARAN1218/piedpiper-python/blob/main/PPP%E2%91%A5_Share_price_analysis.ipynb\" target=\"_parent\"><img src=\"https://colab.research.google.com/assets/colab-badge.svg\" alt=\"Open In Colab\"/></a>"
      ]
    },
    {
      "cell_type": "markdown",
      "source": [
        "# 株価予測でお金持ちになろう（！？）"
      ],
      "metadata": {
        "id": "STksoEHO5_Gh"
      }
    },
    {
      "cell_type": "code",
      "source": [
        "!pip install yfinance\n",
        "!pip install mplfinance\n",
        "!pip install plotly"
      ],
      "metadata": {
        "id": "h6qAu8Gj6GaW"
      },
      "execution_count": null,
      "outputs": []
    },
    {
      "cell_type": "code",
      "execution_count": null,
      "metadata": {
        "id": "ocbYdop85K-G"
      },
      "outputs": [],
      "source": [
        "import numpy as np\n",
        "import pandas as pd\n",
        "import matplotlib.pyplot as plt\n",
        "import seaborn as sns\n",
        "import datetime\n",
        "import plotly.graph_objects as go\n",
        "import plotly.figure_factory as ff\n",
        "\n",
        "# 株価分析に役立つライブラリ\n",
        "import yfinance as yf\n",
        "import mplfinance as mpf"
      ]
    },
    {
      "cell_type": "code",
      "source": [
        "# 任天堂の株価情報をAPIを用いて簡単に取得できる！\n",
        "# みんなもティアーズオブキングダム買おう！！\n",
        "ticker = \"7974.T\"\n",
        "df_all = yf.download(ticker, start= \"2011-01-01\",end=\"2021-12-31\", interval = \"1d\")\n",
        "df_all.head()"
      ],
      "metadata": {
        "id": "4RtmIUPi5ziF"
      },
      "execution_count": null,
      "outputs": []
    },
    {
      "cell_type": "markdown",
      "source": [
        "カラムの意味\n",
        "- Date：取得日時\n",
        "- Open：始値\n",
        "- High：高値\n",
        "- Low：底値\n",
        "- Close：終値\n",
        "- Adj Close：調整後終値...株式分割の実施の前後で株価を連続的にとらえるために、分割実施前の終値を分割後の値に調整した終値\n",
        "- Volume：出来高...株式の取引量"
      ],
      "metadata": {
        "id": "50o3YH6o72kH"
      }
    },
    {
      "cell_type": "code",
      "source": [
        "# pandasのプロット\n",
        "df_all.plot()"
      ],
      "metadata": {
        "id": "o0kzBF_e6dQk"
      },
      "execution_count": null,
      "outputs": []
    },
    {
      "cell_type": "code",
      "source": [
        "# mplfinanceによるプロット\n",
        "mpf.plot(df_all, type=\"candle\",volume=True, figratio=(10,5))"
      ],
      "metadata": {
        "id": "Cmkx9NNj7jRU"
      },
      "execution_count": null,
      "outputs": []
    },
    {
      "cell_type": "markdown",
      "source": [
        "# 特徴量エンジニアリング・データ分析"
      ],
      "metadata": {
        "id": "KE8bdvQ4yldX"
      }
    },
    {
      "cell_type": "code",
      "source": [
        "# ほぼ答えを表しているAdj Closeは消す\n",
        "del df_all['Adj Close']"
      ],
      "metadata": {
        "id": "QxIX3bNgRcw9"
      },
      "execution_count": null,
      "outputs": []
    },
    {
      "cell_type": "code",
      "source": [
        "# 今回の目的変数：1日後の調整済み終値を作る\n",
        "df_all['Close_next'] = df_all['Close'].shift(-1)\n",
        "df_all.tail()"
      ],
      "metadata": {
        "id": "pct4YDJX78_i"
      },
      "execution_count": null,
      "outputs": []
    },
    {
      "cell_type": "code",
      "source": [
        "# 前日との差\n",
        "df_all['Close_diff_pre1'] = df_all['Close'].diff(1)\n",
        "df_all.head()"
      ],
      "metadata": {
        "id": "uprtPcuj5RdT"
      },
      "execution_count": null,
      "outputs": []
    },
    {
      "cell_type": "code",
      "source": [
        "# 移動平均\n",
        "SMA1 = 5   #短期5日\n",
        "SMA2 = 10  #中期10日\n",
        "SMA3 = 15  #長期15日\n",
        "df_all['SMA5'] = df_all['Close'].rolling(SMA1).mean() #短期移動平均の算出\n",
        "df_all['SMA10'] = df_all['Close'].rolling(SMA2).mean() #中期移動平均の算出\n",
        "df_all['SMA15'] = df_all['Close'].rolling(SMA3).mean() #長期移動平均の算出\n",
        "df_all.head(20)"
      ],
      "metadata": {
        "id": "770f7Y-z6kyq"
      },
      "execution_count": null,
      "outputs": []
    },
    {
      "cell_type": "code",
      "source": [
        "# 欠損値を消す\n",
        "df_all = df_all.dropna(how='any')\n",
        "df_all.head()"
      ],
      "metadata": {
        "id": "7OymzrlaS5ZC"
      },
      "execution_count": null,
      "outputs": []
    },
    {
      "cell_type": "code",
      "source": [
        "import plotly.graph_objects as go\n",
        "df_corr = df_all.corr() #相関行列を生成\n",
        "\n",
        "fig = go.Figure()\n",
        "fig.add_trace(\n",
        "    go.Heatmap(\n",
        "        x = df_corr.columns,\n",
        "        y = df_corr.index,\n",
        "        z = np.array(df_corr) \n",
        "    )\n",
        ")"
      ],
      "metadata": {
        "id": "cEbPmrta0ePA"
      },
      "execution_count": null,
      "outputs": []
    },
    {
      "cell_type": "markdown",
      "source": [
        "これでも視覚的に分かりやすいのですが、テキストとして相関係数が書かれていたり、色のグラデーションでより直感的に相関の大小関係が分かった方が良いですよね？  \n",
        "以下でこのヒートマップを改善してみましょ〜"
      ],
      "metadata": {
        "id": "ir85RwMa4bNu"
      }
    },
    {
      "cell_type": "code",
      "source": [
        "# より見やすく！！！\n",
        "import plotly.figure_factory as ff\n",
        "x = list(df_corr.columns)\n",
        "y = list(df_corr.index)\n",
        "z = np.array(df_corr)\n",
        "\n",
        "fig = ff.create_annotated_heatmap(\n",
        "    z,\n",
        "    x = x,\n",
        "    y = y ,\n",
        "    annotation_text = np.around(z, decimals=3),\n",
        "    hoverinfo='z',\n",
        "    colorscale='OrRd'\n",
        "    )\n",
        "fig.show()"
      ],
      "metadata": {
        "id": "I154-5U41Ys7"
      },
      "execution_count": null,
      "outputs": []
    },
    {
      "cell_type": "markdown",
      "source": [
        "最初のやつと比べて、相関係数を表示＆カラースケールを白→赤の順に変化させるようにしました！  \n",
        "本当はもっと良い感じに見やすくなるのですが、今回は相関が高すぎて真っ赤ですね..."
      ],
      "metadata": {
        "id": "mIksl1Dg4TfN"
      }
    },
    {
      "cell_type": "markdown",
      "source": [
        "# モデリング\n",
        "まずは重回帰分析から"
      ],
      "metadata": {
        "id": "CsTxChvazKgw"
      }
    },
    {
      "cell_type": "code",
      "source": [
        "from sklearn.linear_model import LinearRegression\n",
        "# 時系列分割のためTimeSeriesSplitのインポート\n",
        "from sklearn.model_selection import TimeSeriesSplit\n",
        "# 予測精度検証のためMSEをインポート\n",
        "from sklearn.metrics import mean_squared_error as mse"
      ],
      "metadata": {
        "id": "RsDupUeUzLSC"
      },
      "execution_count": null,
      "outputs": []
    },
    {
      "cell_type": "code",
      "source": [
        "train = df_all[:'2021-01-01']\n",
        "test = df_all['2021-01-01':]\n",
        "\n",
        "# 学習用データとテストデータそれぞれを説明変数と目的変数に分離する\n",
        "X_train = train.drop('Close_next', axis=1) #学習用データ説明変数\n",
        "y_train = train['Close_next'] #学習用データ目的変数\n",
        "X_test = test.drop('Close_next', axis=1) #テストデータ説明変数\n",
        "y_test = test['Close_next'] #テストデータ目的変数"
      ],
      "metadata": {
        "id": "s8LWusTL20Ct"
      },
      "execution_count": null,
      "outputs": []
    },
    {
      "cell_type": "code",
      "source": [
        "# 時系列分割交差検証\n",
        "valid_scores = []\n",
        "tscv = TimeSeriesSplit(n_splits=4)\n",
        "for fold, (train_indices, valid_indices) in enumerate(tscv.split(X_train)):\n",
        "    X_train_cv, X_valid_cv = X_train.iloc[train_indices], X_train.iloc[valid_indices]\n",
        "    y_train_cv, y_valid_cv = y_train.iloc[train_indices], y_train.iloc[valid_indices]\n",
        "    # 線形回帰モデルのインスタンス化\n",
        "    model = LinearRegression()\n",
        "    # モデル学習\n",
        "    model.fit(X_train_cv, y_train_cv)\n",
        "    # 予測\n",
        "    y_valid_pred = model.predict(X_valid_cv)\n",
        "    # 予測精度(RMSE)の算出\n",
        "    score = np.sqrt(mse(y_valid_cv, y_valid_pred))\n",
        "    # 予測精度スコアをリストに格納\n",
        "    valid_scores.append(score)"
      ],
      "metadata": {
        "id": "x8T7JR8i2rV7"
      },
      "execution_count": null,
      "outputs": []
    },
    {
      "cell_type": "code",
      "source": [
        "print(f'valid_scores: {valid_scores}')\n",
        "cv_score = np.mean(valid_scores)\n",
        "print(f'CV score: {cv_score}')"
      ],
      "metadata": {
        "id": "bAo4Tivh3T7Y"
      },
      "execution_count": null,
      "outputs": []
    },
    {
      "cell_type": "code",
      "source": [
        "# 可視化\n",
        "model = LinearRegression()\n",
        "model.fit(X_train, y_train)\n",
        "df_result = test[['Close_next']]\n",
        "df_result['Close_pred'] = model.predict(X_test)\n",
        "df_result"
      ],
      "metadata": {
        "id": "LrgURCgb3ik2"
      },
      "execution_count": null,
      "outputs": []
    },
    {
      "cell_type": "code",
      "source": [
        "print('RMSE：', np.sqrt(mse(df_result['Close_next'], df_result['Close_pred'])))\n",
        "df_result.plot()"
      ],
      "metadata": {
        "id": "jPA9BI793kKG"
      },
      "execution_count": null,
      "outputs": []
    },
    {
      "cell_type": "markdown",
      "source": [
        "これで、みんなもお金持ちですね！（）"
      ],
      "metadata": {
        "id": "QDOoxCyq37gp"
      }
    },
    {
      "cell_type": "markdown",
      "source": [
        "# ~このAIが使えない理由~"
      ],
      "metadata": {
        "id": "CEMQLWl18Paz"
      }
    },
    {
      "cell_type": "markdown",
      "source": [
        "1. 株価は人の心理が動かしている面が強く、不足の事態として急激な値動きに対応できていない。(拡大すると分かりやすい)\n",
        "2. 考慮している変数が少なすぎて、株価を左右する要因をカバーしきれていない。（例えば、その企業の取引先の企業の株価だったり、日経平均等を用いた日本全体の景気等）"
      ],
      "metadata": {
        "id": "kYdlK_ah8kIz"
      }
    },
    {
      "cell_type": "code",
      "source": [
        "# 拡大してみてみると...？\n",
        "df_result.iloc[:20,:].plot()\n",
        "# 全然ダメで草"
      ],
      "metadata": {
        "id": "DgRhaYcKEbOu"
      },
      "execution_count": null,
      "outputs": []
    },
    {
      "cell_type": "markdown",
      "source": [
        "上の予測結果を完全に信じて挑戦すると、1/6とか1/10辺りでドツボにハマりそうですね（笑）"
      ],
      "metadata": {
        "id": "XWj0A2y5Ga-c"
      }
    },
    {
      "cell_type": "markdown",
      "source": [
        "そもそも今回使った重回帰分析は一体何をしているのかというと、以下のような多項式を全データに対して最も誤差が小さくなる（**最小二乗法**）ように求めると言うことをやっています。\n",
        "\n",
        "$$y = \\beta + \\alpha_1 x_1 + \\alpha_2 x_2 + ... + \\alpha_n x_n$$\n",
        "\n",
        "$$y...目的変数（次の日の終値）$$\n",
        "$$\\beta ... 切片$$\n",
        "$$\\alpha ... 偏回帰係数$$\n",
        "$$x...説明変数（前の日の終値等）$$\n",
        "\n",
        "数式アレルギーの人がいるかもしれないので言葉で説明すると、「モデルに入力した色々な値に係数を掛けて翌日の株価を再現しやすい式を作る」ということを説明しています。  \n",
        "今回は前の日の終値が次の日の終値に割と近い値を取りますよね？つまり、前の日の終値に1に近い係数を掛けておけば、概ね「精度良く」予測できる重回帰モデルが作れてしまうのです。  \n",
        "しかし、そんなもの私たちは望んでないですよね？私たちが欲しいのは総合的に考えて明日の終値がどのような値になるのかを出力してくれるやつのはずです。\n",
        "\n",
        "でも残念ながら、重回帰分析の仕組み上そんなことはできないのです..."
      ],
      "metadata": {
        "id": "55puTxyzJtRn"
      }
    },
    {
      "cell_type": "code",
      "source": [
        "# 試しに今回のモデルの偏回帰係数・切片を見てみると...？\n",
        "\n",
        "model_params = list(model.coef_).copy() # 偏回帰係数\n",
        "model_params.append(model.intercept_) # 切片\n",
        "columns = list(X_train.columns).copy()\n",
        "columns.append(\"intercept\")\n",
        "df_params = pd.DataFrame(model_params, index=columns).T\n",
        "\n",
        "df_params.plot.bar()"
      ],
      "metadata": {
        "id": "7T3tYjaiL2Xh"
      },
      "execution_count": null,
      "outputs": []
    },
    {
      "cell_type": "markdown",
      "source": [
        "ほら見たことか。やっぱりしょーもないモデルでしたね🐦"
      ],
      "metadata": {
        "id": "V6q0VHKBNlJs"
      }
    },
    {
      "cell_type": "markdown",
      "source": [
        "じゃあもっとマシなアプローチはあるの？というと、上下どちらに動くかというやや単純化したタスクの予測させるAIを強化学習というアプローチで作成して買い付けを行わせたり、時系列回帰が得意なモデルにデータを食わせたりすることがあるそうです。  \n",
        "**（私は責任を負いませんが）**皆さんも頑張って株価を予測させて、是非お金持ちになってください🐦"
      ],
      "metadata": {
        "id": "O6KNeqVl8-2_"
      }
    },
    {
      "cell_type": "markdown",
      "source": [
        "# オマケ：時系列モデル「ARIMA」で予測"
      ],
      "metadata": {
        "id": "JlL89GySVV1q"
      }
    },
    {
      "cell_type": "code",
      "source": [
        "from statsmodels.tsa.arima.model import ARIMA\n",
        "# ARIMAモデル実装\n",
        "model = ARIMA(y_train, order=(6,1,0))\n",
        "model_fit = model.fit()\n",
        "print(model_fit.summary())"
      ],
      "metadata": {
        "id": "dblHwCvfX1rZ"
      },
      "execution_count": null,
      "outputs": []
    },
    {
      "cell_type": "code",
      "source": [
        "history = [x for x in y_train]\n",
        "model_predictions = []\n",
        "for time_point in range(len(y_test)):\n",
        "    #ARIMAモデル 実装\n",
        "    model = ARIMA(history, order=(6,1,0))\n",
        "    model_fit = model.fit()\n",
        "    #予測データの出力\n",
        "    output = model_fit.forecast()\n",
        "    yhat = output[0]\n",
        "    model_predictions.append(yhat)\n",
        "    #トレーニングデータの取り込み\n",
        "    true_test_value = y_test[time_point]\n",
        "    history.append(true_test_value)"
      ],
      "metadata": {
        "id": "wZA4c7LKY_hP"
      },
      "execution_count": null,
      "outputs": []
    },
    {
      "cell_type": "code",
      "source": [
        "# pred = pd.DataFrame(model_predictions, columns=['Close'])\n",
        "# pred = pred.set_index(df_all.index)\n",
        "df_result = test[['Close_next']]\n",
        "df_result['Close_pred'] = np.array(model_predictions)\n",
        "df_result"
      ],
      "metadata": {
        "id": "RemaaLOubidX"
      },
      "execution_count": null,
      "outputs": []
    },
    {
      "cell_type": "code",
      "source": [
        "print('RMSE：', np.sqrt(mse(df_result['Close_next'], df_result['Close_pred'])))\n",
        "df_result.plot()\n",
        "# ちょっとだけ良くなった？"
      ],
      "metadata": {
        "id": "D8LLGgpGc9q7"
      },
      "execution_count": null,
      "outputs": []
    },
    {
      "cell_type": "markdown",
      "source": [
        "# 参考文献\n",
        "- Pythonで予測｜株価はいくらになる？【機械学習を使って予測する方法を解説：データ取得、データ前処理、モデル作成、モデル評価まで】、キノコード、https://kino-code.com/python-stock-price2/\n",
        "- 【実践】Pythonで株の取引データを分析し予測してみよう！、スタビジ、https://toukei-lab.com/python_stock"
      ],
      "metadata": {
        "id": "BKxoBrCCIYMs"
      }
    },
    {
      "cell_type": "markdown",
      "source": [
        "# LICENCE\n",
        "\n",
        "このcolabは[githubのREADME](https://github.com/agu-piedpiper/piedpiper-python)にて記載の通りのライセンスに従います。"
      ],
      "metadata": {
        "id": "4RgeHlORbJWF"
      }
    }
  ]
}